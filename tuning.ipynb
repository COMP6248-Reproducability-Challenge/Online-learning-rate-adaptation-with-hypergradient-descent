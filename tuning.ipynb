{
  "nbformat": 4,
  "nbformat_minor": 0,
  "metadata": {
    "colab": {
      "name": "CNN.ipynb",
      "provenance": [],
      "collapsed_sections": []
    },
    "kernelspec": {
      "name": "python3",
      "display_name": "Python 3"
    },
    "accelerator": "GPU",
    "widgets": {
      "application/vnd.jupyter.widget-state+json": {
        "e45684dfefae421080046854abd049eb": {
          "model_module": "@jupyter-widgets/controls",
          "model_name": "HBoxModel",
          "state": {
            "_view_name": "HBoxView",
            "_dom_classes": [],
            "_model_name": "HBoxModel",
            "_view_module": "@jupyter-widgets/controls",
            "_model_module_version": "1.5.0",
            "_view_count": null,
            "_view_module_version": "1.5.0",
            "box_style": "",
            "layout": "IPY_MODEL_40366a913c9341928bdc6f20e648f68f",
            "_model_module": "@jupyter-widgets/controls",
            "children": [
              "IPY_MODEL_81438870b4b24fa9bd847465358c78e6",
              "IPY_MODEL_45b9c17e4a8b44c6b9cfefeab579aa1e"
            ]
          }
        },
        "40366a913c9341928bdc6f20e648f68f": {
          "model_module": "@jupyter-widgets/base",
          "model_name": "LayoutModel",
          "state": {
            "_view_name": "LayoutView",
            "grid_template_rows": null,
            "right": null,
            "justify_content": null,
            "_view_module": "@jupyter-widgets/base",
            "overflow": null,
            "_model_module_version": "1.2.0",
            "_view_count": null,
            "flex_flow": null,
            "width": null,
            "min_width": null,
            "border": null,
            "align_items": null,
            "bottom": null,
            "_model_module": "@jupyter-widgets/base",
            "top": null,
            "grid_column": null,
            "overflow_y": null,
            "overflow_x": null,
            "grid_auto_flow": null,
            "grid_area": null,
            "grid_template_columns": null,
            "flex": null,
            "_model_name": "LayoutModel",
            "justify_items": null,
            "grid_row": null,
            "max_height": null,
            "align_content": null,
            "visibility": null,
            "align_self": null,
            "height": null,
            "min_height": null,
            "padding": null,
            "grid_auto_rows": null,
            "grid_gap": null,
            "max_width": null,
            "order": null,
            "_view_module_version": "1.2.0",
            "grid_template_areas": null,
            "object_position": null,
            "object_fit": null,
            "grid_auto_columns": null,
            "margin": null,
            "display": null,
            "left": null
          }
        },
        "81438870b4b24fa9bd847465358c78e6": {
          "model_module": "@jupyter-widgets/controls",
          "model_name": "FloatProgressModel",
          "state": {
            "_view_name": "ProgressView",
            "style": "IPY_MODEL_0c3fd92abc0244fc91f39266ee8e2854",
            "_dom_classes": [],
            "description": "",
            "_model_name": "FloatProgressModel",
            "bar_style": "info",
            "max": 1,
            "_view_module": "@jupyter-widgets/controls",
            "_model_module_version": "1.5.0",
            "value": 1,
            "_view_count": null,
            "_view_module_version": "1.5.0",
            "orientation": "horizontal",
            "min": 0,
            "description_tooltip": null,
            "_model_module": "@jupyter-widgets/controls",
            "layout": "IPY_MODEL_d1b19c47d17542f9b41db51580d6dd4d"
          }
        },
        "45b9c17e4a8b44c6b9cfefeab579aa1e": {
          "model_module": "@jupyter-widgets/controls",
          "model_name": "HTMLModel",
          "state": {
            "_view_name": "HTMLView",
            "style": "IPY_MODEL_e727c3acb8a34cd3afd77813a5e12836",
            "_dom_classes": [],
            "description": "",
            "_model_name": "HTMLModel",
            "placeholder": "​",
            "_view_module": "@jupyter-widgets/controls",
            "_model_module_version": "1.5.0",
            "value": " 9920512/? [00:19&lt;00:00, 1356434.93it/s]",
            "_view_count": null,
            "_view_module_version": "1.5.0",
            "description_tooltip": null,
            "_model_module": "@jupyter-widgets/controls",
            "layout": "IPY_MODEL_2f32773399144436ae4d59940533c61c"
          }
        },
        "0c3fd92abc0244fc91f39266ee8e2854": {
          "model_module": "@jupyter-widgets/controls",
          "model_name": "ProgressStyleModel",
          "state": {
            "_view_name": "StyleView",
            "_model_name": "ProgressStyleModel",
            "description_width": "initial",
            "_view_module": "@jupyter-widgets/base",
            "_model_module_version": "1.5.0",
            "_view_count": null,
            "_view_module_version": "1.2.0",
            "bar_color": null,
            "_model_module": "@jupyter-widgets/controls"
          }
        },
        "d1b19c47d17542f9b41db51580d6dd4d": {
          "model_module": "@jupyter-widgets/base",
          "model_name": "LayoutModel",
          "state": {
            "_view_name": "LayoutView",
            "grid_template_rows": null,
            "right": null,
            "justify_content": null,
            "_view_module": "@jupyter-widgets/base",
            "overflow": null,
            "_model_module_version": "1.2.0",
            "_view_count": null,
            "flex_flow": null,
            "width": null,
            "min_width": null,
            "border": null,
            "align_items": null,
            "bottom": null,
            "_model_module": "@jupyter-widgets/base",
            "top": null,
            "grid_column": null,
            "overflow_y": null,
            "overflow_x": null,
            "grid_auto_flow": null,
            "grid_area": null,
            "grid_template_columns": null,
            "flex": null,
            "_model_name": "LayoutModel",
            "justify_items": null,
            "grid_row": null,
            "max_height": null,
            "align_content": null,
            "visibility": null,
            "align_self": null,
            "height": null,
            "min_height": null,
            "padding": null,
            "grid_auto_rows": null,
            "grid_gap": null,
            "max_width": null,
            "order": null,
            "_view_module_version": "1.2.0",
            "grid_template_areas": null,
            "object_position": null,
            "object_fit": null,
            "grid_auto_columns": null,
            "margin": null,
            "display": null,
            "left": null
          }
        },
        "e727c3acb8a34cd3afd77813a5e12836": {
          "model_module": "@jupyter-widgets/controls",
          "model_name": "DescriptionStyleModel",
          "state": {
            "_view_name": "StyleView",
            "_model_name": "DescriptionStyleModel",
            "description_width": "",
            "_view_module": "@jupyter-widgets/base",
            "_model_module_version": "1.5.0",
            "_view_count": null,
            "_view_module_version": "1.2.0",
            "_model_module": "@jupyter-widgets/controls"
          }
        },
        "2f32773399144436ae4d59940533c61c": {
          "model_module": "@jupyter-widgets/base",
          "model_name": "LayoutModel",
          "state": {
            "_view_name": "LayoutView",
            "grid_template_rows": null,
            "right": null,
            "justify_content": null,
            "_view_module": "@jupyter-widgets/base",
            "overflow": null,
            "_model_module_version": "1.2.0",
            "_view_count": null,
            "flex_flow": null,
            "width": null,
            "min_width": null,
            "border": null,
            "align_items": null,
            "bottom": null,
            "_model_module": "@jupyter-widgets/base",
            "top": null,
            "grid_column": null,
            "overflow_y": null,
            "overflow_x": null,
            "grid_auto_flow": null,
            "grid_area": null,
            "grid_template_columns": null,
            "flex": null,
            "_model_name": "LayoutModel",
            "justify_items": null,
            "grid_row": null,
            "max_height": null,
            "align_content": null,
            "visibility": null,
            "align_self": null,
            "height": null,
            "min_height": null,
            "padding": null,
            "grid_auto_rows": null,
            "grid_gap": null,
            "max_width": null,
            "order": null,
            "_view_module_version": "1.2.0",
            "grid_template_areas": null,
            "object_position": null,
            "object_fit": null,
            "grid_auto_columns": null,
            "margin": null,
            "display": null,
            "left": null
          }
        },
        "edf59fe18b894a34a70d1f18964068db": {
          "model_module": "@jupyter-widgets/controls",
          "model_name": "HBoxModel",
          "state": {
            "_view_name": "HBoxView",
            "_dom_classes": [],
            "_model_name": "HBoxModel",
            "_view_module": "@jupyter-widgets/controls",
            "_model_module_version": "1.5.0",
            "_view_count": null,
            "_view_module_version": "1.5.0",
            "box_style": "",
            "layout": "IPY_MODEL_49a7c02971374ff18307af588624b0c9",
            "_model_module": "@jupyter-widgets/controls",
            "children": [
              "IPY_MODEL_c2e3458238ac4468b7fccc521450ef41",
              "IPY_MODEL_f23965ee5dbd4f47a6eaae12deccc5c8"
            ]
          }
        },
        "49a7c02971374ff18307af588624b0c9": {
          "model_module": "@jupyter-widgets/base",
          "model_name": "LayoutModel",
          "state": {
            "_view_name": "LayoutView",
            "grid_template_rows": null,
            "right": null,
            "justify_content": null,
            "_view_module": "@jupyter-widgets/base",
            "overflow": null,
            "_model_module_version": "1.2.0",
            "_view_count": null,
            "flex_flow": null,
            "width": null,
            "min_width": null,
            "border": null,
            "align_items": null,
            "bottom": null,
            "_model_module": "@jupyter-widgets/base",
            "top": null,
            "grid_column": null,
            "overflow_y": null,
            "overflow_x": null,
            "grid_auto_flow": null,
            "grid_area": null,
            "grid_template_columns": null,
            "flex": null,
            "_model_name": "LayoutModel",
            "justify_items": null,
            "grid_row": null,
            "max_height": null,
            "align_content": null,
            "visibility": null,
            "align_self": null,
            "height": null,
            "min_height": null,
            "padding": null,
            "grid_auto_rows": null,
            "grid_gap": null,
            "max_width": null,
            "order": null,
            "_view_module_version": "1.2.0",
            "grid_template_areas": null,
            "object_position": null,
            "object_fit": null,
            "grid_auto_columns": null,
            "margin": null,
            "display": null,
            "left": null
          }
        },
        "c2e3458238ac4468b7fccc521450ef41": {
          "model_module": "@jupyter-widgets/controls",
          "model_name": "FloatProgressModel",
          "state": {
            "_view_name": "ProgressView",
            "style": "IPY_MODEL_fd4ceb6475164ce7adadf4b8207a0b31",
            "_dom_classes": [],
            "description": "",
            "_model_name": "FloatProgressModel",
            "bar_style": "success",
            "max": 1,
            "_view_module": "@jupyter-widgets/controls",
            "_model_module_version": "1.5.0",
            "value": 1,
            "_view_count": null,
            "_view_module_version": "1.5.0",
            "orientation": "horizontal",
            "min": 0,
            "description_tooltip": null,
            "_model_module": "@jupyter-widgets/controls",
            "layout": "IPY_MODEL_d966dc9dd10440e29ce6b161f9a38282"
          }
        },
        "f23965ee5dbd4f47a6eaae12deccc5c8": {
          "model_module": "@jupyter-widgets/controls",
          "model_name": "HTMLModel",
          "state": {
            "_view_name": "HTMLView",
            "style": "IPY_MODEL_6d879b78e6664e34851e17030fb8a4f7",
            "_dom_classes": [],
            "description": "",
            "_model_name": "HTMLModel",
            "placeholder": "​",
            "_view_module": "@jupyter-widgets/controls",
            "_model_module_version": "1.5.0",
            "value": " 32768/? [00:03&lt;00:00, 9540.79it/s]",
            "_view_count": null,
            "_view_module_version": "1.5.0",
            "description_tooltip": null,
            "_model_module": "@jupyter-widgets/controls",
            "layout": "IPY_MODEL_a067ed0af8dd41d1825157f3db54cf89"
          }
        },
        "fd4ceb6475164ce7adadf4b8207a0b31": {
          "model_module": "@jupyter-widgets/controls",
          "model_name": "ProgressStyleModel",
          "state": {
            "_view_name": "StyleView",
            "_model_name": "ProgressStyleModel",
            "description_width": "initial",
            "_view_module": "@jupyter-widgets/base",
            "_model_module_version": "1.5.0",
            "_view_count": null,
            "_view_module_version": "1.2.0",
            "bar_color": null,
            "_model_module": "@jupyter-widgets/controls"
          }
        },
        "d966dc9dd10440e29ce6b161f9a38282": {
          "model_module": "@jupyter-widgets/base",
          "model_name": "LayoutModel",
          "state": {
            "_view_name": "LayoutView",
            "grid_template_rows": null,
            "right": null,
            "justify_content": null,
            "_view_module": "@jupyter-widgets/base",
            "overflow": null,
            "_model_module_version": "1.2.0",
            "_view_count": null,
            "flex_flow": null,
            "width": null,
            "min_width": null,
            "border": null,
            "align_items": null,
            "bottom": null,
            "_model_module": "@jupyter-widgets/base",
            "top": null,
            "grid_column": null,
            "overflow_y": null,
            "overflow_x": null,
            "grid_auto_flow": null,
            "grid_area": null,
            "grid_template_columns": null,
            "flex": null,
            "_model_name": "LayoutModel",
            "justify_items": null,
            "grid_row": null,
            "max_height": null,
            "align_content": null,
            "visibility": null,
            "align_self": null,
            "height": null,
            "min_height": null,
            "padding": null,
            "grid_auto_rows": null,
            "grid_gap": null,
            "max_width": null,
            "order": null,
            "_view_module_version": "1.2.0",
            "grid_template_areas": null,
            "object_position": null,
            "object_fit": null,
            "grid_auto_columns": null,
            "margin": null,
            "display": null,
            "left": null
          }
        },
        "6d879b78e6664e34851e17030fb8a4f7": {
          "model_module": "@jupyter-widgets/controls",
          "model_name": "DescriptionStyleModel",
          "state": {
            "_view_name": "StyleView",
            "_model_name": "DescriptionStyleModel",
            "description_width": "",
            "_view_module": "@jupyter-widgets/base",
            "_model_module_version": "1.5.0",
            "_view_count": null,
            "_view_module_version": "1.2.0",
            "_model_module": "@jupyter-widgets/controls"
          }
        },
        "a067ed0af8dd41d1825157f3db54cf89": {
          "model_module": "@jupyter-widgets/base",
          "model_name": "LayoutModel",
          "state": {
            "_view_name": "LayoutView",
            "grid_template_rows": null,
            "right": null,
            "justify_content": null,
            "_view_module": "@jupyter-widgets/base",
            "overflow": null,
            "_model_module_version": "1.2.0",
            "_view_count": null,
            "flex_flow": null,
            "width": null,
            "min_width": null,
            "border": null,
            "align_items": null,
            "bottom": null,
            "_model_module": "@jupyter-widgets/base",
            "top": null,
            "grid_column": null,
            "overflow_y": null,
            "overflow_x": null,
            "grid_auto_flow": null,
            "grid_area": null,
            "grid_template_columns": null,
            "flex": null,
            "_model_name": "LayoutModel",
            "justify_items": null,
            "grid_row": null,
            "max_height": null,
            "align_content": null,
            "visibility": null,
            "align_self": null,
            "height": null,
            "min_height": null,
            "padding": null,
            "grid_auto_rows": null,
            "grid_gap": null,
            "max_width": null,
            "order": null,
            "_view_module_version": "1.2.0",
            "grid_template_areas": null,
            "object_position": null,
            "object_fit": null,
            "grid_auto_columns": null,
            "margin": null,
            "display": null,
            "left": null
          }
        },
        "8bb433cab46c415c8f1586fb8c7d2c82": {
          "model_module": "@jupyter-widgets/controls",
          "model_name": "HBoxModel",
          "state": {
            "_view_name": "HBoxView",
            "_dom_classes": [],
            "_model_name": "HBoxModel",
            "_view_module": "@jupyter-widgets/controls",
            "_model_module_version": "1.5.0",
            "_view_count": null,
            "_view_module_version": "1.5.0",
            "box_style": "",
            "layout": "IPY_MODEL_32465ae14bbb4b2aa31d67c1685f16cf",
            "_model_module": "@jupyter-widgets/controls",
            "children": [
              "IPY_MODEL_f88a63cf0e1149828df03c1a5b119af6",
              "IPY_MODEL_d41a04d1b28d42babbd0e92a28ef64ca"
            ]
          }
        },
        "32465ae14bbb4b2aa31d67c1685f16cf": {
          "model_module": "@jupyter-widgets/base",
          "model_name": "LayoutModel",
          "state": {
            "_view_name": "LayoutView",
            "grid_template_rows": null,
            "right": null,
            "justify_content": null,
            "_view_module": "@jupyter-widgets/base",
            "overflow": null,
            "_model_module_version": "1.2.0",
            "_view_count": null,
            "flex_flow": null,
            "width": null,
            "min_width": null,
            "border": null,
            "align_items": null,
            "bottom": null,
            "_model_module": "@jupyter-widgets/base",
            "top": null,
            "grid_column": null,
            "overflow_y": null,
            "overflow_x": null,
            "grid_auto_flow": null,
            "grid_area": null,
            "grid_template_columns": null,
            "flex": null,
            "_model_name": "LayoutModel",
            "justify_items": null,
            "grid_row": null,
            "max_height": null,
            "align_content": null,
            "visibility": null,
            "align_self": null,
            "height": null,
            "min_height": null,
            "padding": null,
            "grid_auto_rows": null,
            "grid_gap": null,
            "max_width": null,
            "order": null,
            "_view_module_version": "1.2.0",
            "grid_template_areas": null,
            "object_position": null,
            "object_fit": null,
            "grid_auto_columns": null,
            "margin": null,
            "display": null,
            "left": null
          }
        },
        "f88a63cf0e1149828df03c1a5b119af6": {
          "model_module": "@jupyter-widgets/controls",
          "model_name": "FloatProgressModel",
          "state": {
            "_view_name": "ProgressView",
            "style": "IPY_MODEL_83134310bb104a99b04843204671799e",
            "_dom_classes": [],
            "description": "",
            "_model_name": "FloatProgressModel",
            "bar_style": "success",
            "max": 1,
            "_view_module": "@jupyter-widgets/controls",
            "_model_module_version": "1.5.0",
            "value": 1,
            "_view_count": null,
            "_view_module_version": "1.5.0",
            "orientation": "horizontal",
            "min": 0,
            "description_tooltip": null,
            "_model_module": "@jupyter-widgets/controls",
            "layout": "IPY_MODEL_de81f8e6f9b7411b851bc9049ae37f07"
          }
        },
        "d41a04d1b28d42babbd0e92a28ef64ca": {
          "model_module": "@jupyter-widgets/controls",
          "model_name": "HTMLModel",
          "state": {
            "_view_name": "HTMLView",
            "style": "IPY_MODEL_ac32c2111a8d44beb8f60749e18f600f",
            "_dom_classes": [],
            "description": "",
            "_model_name": "HTMLModel",
            "placeholder": "​",
            "_view_module": "@jupyter-widgets/controls",
            "_model_module_version": "1.5.0",
            "value": " 1654784/? [00:02&lt;00:00, 612785.71it/s]",
            "_view_count": null,
            "_view_module_version": "1.5.0",
            "description_tooltip": null,
            "_model_module": "@jupyter-widgets/controls",
            "layout": "IPY_MODEL_9ee7e527cc3d4f8abfffcf844042be0d"
          }
        },
        "83134310bb104a99b04843204671799e": {
          "model_module": "@jupyter-widgets/controls",
          "model_name": "ProgressStyleModel",
          "state": {
            "_view_name": "StyleView",
            "_model_name": "ProgressStyleModel",
            "description_width": "initial",
            "_view_module": "@jupyter-widgets/base",
            "_model_module_version": "1.5.0",
            "_view_count": null,
            "_view_module_version": "1.2.0",
            "bar_color": null,
            "_model_module": "@jupyter-widgets/controls"
          }
        },
        "de81f8e6f9b7411b851bc9049ae37f07": {
          "model_module": "@jupyter-widgets/base",
          "model_name": "LayoutModel",
          "state": {
            "_view_name": "LayoutView",
            "grid_template_rows": null,
            "right": null,
            "justify_content": null,
            "_view_module": "@jupyter-widgets/base",
            "overflow": null,
            "_model_module_version": "1.2.0",
            "_view_count": null,
            "flex_flow": null,
            "width": null,
            "min_width": null,
            "border": null,
            "align_items": null,
            "bottom": null,
            "_model_module": "@jupyter-widgets/base",
            "top": null,
            "grid_column": null,
            "overflow_y": null,
            "overflow_x": null,
            "grid_auto_flow": null,
            "grid_area": null,
            "grid_template_columns": null,
            "flex": null,
            "_model_name": "LayoutModel",
            "justify_items": null,
            "grid_row": null,
            "max_height": null,
            "align_content": null,
            "visibility": null,
            "align_self": null,
            "height": null,
            "min_height": null,
            "padding": null,
            "grid_auto_rows": null,
            "grid_gap": null,
            "max_width": null,
            "order": null,
            "_view_module_version": "1.2.0",
            "grid_template_areas": null,
            "object_position": null,
            "object_fit": null,
            "grid_auto_columns": null,
            "margin": null,
            "display": null,
            "left": null
          }
        },
        "ac32c2111a8d44beb8f60749e18f600f": {
          "model_module": "@jupyter-widgets/controls",
          "model_name": "DescriptionStyleModel",
          "state": {
            "_view_name": "StyleView",
            "_model_name": "DescriptionStyleModel",
            "description_width": "",
            "_view_module": "@jupyter-widgets/base",
            "_model_module_version": "1.5.0",
            "_view_count": null,
            "_view_module_version": "1.2.0",
            "_model_module": "@jupyter-widgets/controls"
          }
        },
        "9ee7e527cc3d4f8abfffcf844042be0d": {
          "model_module": "@jupyter-widgets/base",
          "model_name": "LayoutModel",
          "state": {
            "_view_name": "LayoutView",
            "grid_template_rows": null,
            "right": null,
            "justify_content": null,
            "_view_module": "@jupyter-widgets/base",
            "overflow": null,
            "_model_module_version": "1.2.0",
            "_view_count": null,
            "flex_flow": null,
            "width": null,
            "min_width": null,
            "border": null,
            "align_items": null,
            "bottom": null,
            "_model_module": "@jupyter-widgets/base",
            "top": null,
            "grid_column": null,
            "overflow_y": null,
            "overflow_x": null,
            "grid_auto_flow": null,
            "grid_area": null,
            "grid_template_columns": null,
            "flex": null,
            "_model_name": "LayoutModel",
            "justify_items": null,
            "grid_row": null,
            "max_height": null,
            "align_content": null,
            "visibility": null,
            "align_self": null,
            "height": null,
            "min_height": null,
            "padding": null,
            "grid_auto_rows": null,
            "grid_gap": null,
            "max_width": null,
            "order": null,
            "_view_module_version": "1.2.0",
            "grid_template_areas": null,
            "object_position": null,
            "object_fit": null,
            "grid_auto_columns": null,
            "margin": null,
            "display": null,
            "left": null
          }
        },
        "1ed9ec8fdbee4a28a53a846d4a6efa7c": {
          "model_module": "@jupyter-widgets/controls",
          "model_name": "HBoxModel",
          "state": {
            "_view_name": "HBoxView",
            "_dom_classes": [],
            "_model_name": "HBoxModel",
            "_view_module": "@jupyter-widgets/controls",
            "_model_module_version": "1.5.0",
            "_view_count": null,
            "_view_module_version": "1.5.0",
            "box_style": "",
            "layout": "IPY_MODEL_97da1f56bade483c89889f6b19aaad28",
            "_model_module": "@jupyter-widgets/controls",
            "children": [
              "IPY_MODEL_460a5c47fe6e4f7a95e795aba77ec003",
              "IPY_MODEL_808333b97ed041a0a89b9d20599ed949"
            ]
          }
        },
        "97da1f56bade483c89889f6b19aaad28": {
          "model_module": "@jupyter-widgets/base",
          "model_name": "LayoutModel",
          "state": {
            "_view_name": "LayoutView",
            "grid_template_rows": null,
            "right": null,
            "justify_content": null,
            "_view_module": "@jupyter-widgets/base",
            "overflow": null,
            "_model_module_version": "1.2.0",
            "_view_count": null,
            "flex_flow": null,
            "width": null,
            "min_width": null,
            "border": null,
            "align_items": null,
            "bottom": null,
            "_model_module": "@jupyter-widgets/base",
            "top": null,
            "grid_column": null,
            "overflow_y": null,
            "overflow_x": null,
            "grid_auto_flow": null,
            "grid_area": null,
            "grid_template_columns": null,
            "flex": null,
            "_model_name": "LayoutModel",
            "justify_items": null,
            "grid_row": null,
            "max_height": null,
            "align_content": null,
            "visibility": null,
            "align_self": null,
            "height": null,
            "min_height": null,
            "padding": null,
            "grid_auto_rows": null,
            "grid_gap": null,
            "max_width": null,
            "order": null,
            "_view_module_version": "1.2.0",
            "grid_template_areas": null,
            "object_position": null,
            "object_fit": null,
            "grid_auto_columns": null,
            "margin": null,
            "display": null,
            "left": null
          }
        },
        "460a5c47fe6e4f7a95e795aba77ec003": {
          "model_module": "@jupyter-widgets/controls",
          "model_name": "FloatProgressModel",
          "state": {
            "_view_name": "ProgressView",
            "style": "IPY_MODEL_45aa2b3ac7824d65a4057d9f56c69f18",
            "_dom_classes": [],
            "description": "",
            "_model_name": "FloatProgressModel",
            "bar_style": "success",
            "max": 1,
            "_view_module": "@jupyter-widgets/controls",
            "_model_module_version": "1.5.0",
            "value": 1,
            "_view_count": null,
            "_view_module_version": "1.5.0",
            "orientation": "horizontal",
            "min": 0,
            "description_tooltip": null,
            "_model_module": "@jupyter-widgets/controls",
            "layout": "IPY_MODEL_ee0170098d7e43db8ecec1d2ffb77818"
          }
        },
        "808333b97ed041a0a89b9d20599ed949": {
          "model_module": "@jupyter-widgets/controls",
          "model_name": "HTMLModel",
          "state": {
            "_view_name": "HTMLView",
            "style": "IPY_MODEL_e6cb1f75fff04ce38b1421979a1f00b8",
            "_dom_classes": [],
            "description": "",
            "_model_name": "HTMLModel",
            "placeholder": "​",
            "_view_module": "@jupyter-widgets/controls",
            "_model_module_version": "1.5.0",
            "value": " 8192/? [00:00&lt;00:00, 13068.60it/s]",
            "_view_count": null,
            "_view_module_version": "1.5.0",
            "description_tooltip": null,
            "_model_module": "@jupyter-widgets/controls",
            "layout": "IPY_MODEL_5ebe0d087e63418daa4dbe4c532a85cf"
          }
        },
        "45aa2b3ac7824d65a4057d9f56c69f18": {
          "model_module": "@jupyter-widgets/controls",
          "model_name": "ProgressStyleModel",
          "state": {
            "_view_name": "StyleView",
            "_model_name": "ProgressStyleModel",
            "description_width": "initial",
            "_view_module": "@jupyter-widgets/base",
            "_model_module_version": "1.5.0",
            "_view_count": null,
            "_view_module_version": "1.2.0",
            "bar_color": null,
            "_model_module": "@jupyter-widgets/controls"
          }
        },
        "ee0170098d7e43db8ecec1d2ffb77818": {
          "model_module": "@jupyter-widgets/base",
          "model_name": "LayoutModel",
          "state": {
            "_view_name": "LayoutView",
            "grid_template_rows": null,
            "right": null,
            "justify_content": null,
            "_view_module": "@jupyter-widgets/base",
            "overflow": null,
            "_model_module_version": "1.2.0",
            "_view_count": null,
            "flex_flow": null,
            "width": null,
            "min_width": null,
            "border": null,
            "align_items": null,
            "bottom": null,
            "_model_module": "@jupyter-widgets/base",
            "top": null,
            "grid_column": null,
            "overflow_y": null,
            "overflow_x": null,
            "grid_auto_flow": null,
            "grid_area": null,
            "grid_template_columns": null,
            "flex": null,
            "_model_name": "LayoutModel",
            "justify_items": null,
            "grid_row": null,
            "max_height": null,
            "align_content": null,
            "visibility": null,
            "align_self": null,
            "height": null,
            "min_height": null,
            "padding": null,
            "grid_auto_rows": null,
            "grid_gap": null,
            "max_width": null,
            "order": null,
            "_view_module_version": "1.2.0",
            "grid_template_areas": null,
            "object_position": null,
            "object_fit": null,
            "grid_auto_columns": null,
            "margin": null,
            "display": null,
            "left": null
          }
        },
        "e6cb1f75fff04ce38b1421979a1f00b8": {
          "model_module": "@jupyter-widgets/controls",
          "model_name": "DescriptionStyleModel",
          "state": {
            "_view_name": "StyleView",
            "_model_name": "DescriptionStyleModel",
            "description_width": "",
            "_view_module": "@jupyter-widgets/base",
            "_model_module_version": "1.5.0",
            "_view_count": null,
            "_view_module_version": "1.2.0",
            "_model_module": "@jupyter-widgets/controls"
          }
        },
        "5ebe0d087e63418daa4dbe4c532a85cf": {
          "model_module": "@jupyter-widgets/base",
          "model_name": "LayoutModel",
          "state": {
            "_view_name": "LayoutView",
            "grid_template_rows": null,
            "right": null,
            "justify_content": null,
            "_view_module": "@jupyter-widgets/base",
            "overflow": null,
            "_model_module_version": "1.2.0",
            "_view_count": null,
            "flex_flow": null,
            "width": null,
            "min_width": null,
            "border": null,
            "align_items": null,
            "bottom": null,
            "_model_module": "@jupyter-widgets/base",
            "top": null,
            "grid_column": null,
            "overflow_y": null,
            "overflow_x": null,
            "grid_auto_flow": null,
            "grid_area": null,
            "grid_template_columns": null,
            "flex": null,
            "_model_name": "LayoutModel",
            "justify_items": null,
            "grid_row": null,
            "max_height": null,
            "align_content": null,
            "visibility": null,
            "align_self": null,
            "height": null,
            "min_height": null,
            "padding": null,
            "grid_auto_rows": null,
            "grid_gap": null,
            "max_width": null,
            "order": null,
            "_view_module_version": "1.2.0",
            "grid_template_areas": null,
            "object_position": null,
            "object_fit": null,
            "grid_auto_columns": null,
            "margin": null,
            "display": null,
            "left": null
          }
        }
      }
    }
  },
  "cells": [
    {
      "cell_type": "code",
      "metadata": {
        "id": "sY34NKgjXcHf",
        "colab_type": "code",
        "outputId": "0bd61b4a-3680-4166-9ccd-76ffb7cda80c",
        "colab": {
          "base_uri": "https://localhost:8080/",
          "height": 187
        }
      },
      "source": [
        "!pip install git+https://github.com/gbaydin/hypergradient-descent.git"
      ],
      "execution_count": 0,
      "outputs": [
        {
          "output_type": "stream",
          "text": [
            "Collecting git+https://github.com/gbaydin/hypergradient-descent.git\n",
            "  Cloning https://github.com/gbaydin/hypergradient-descent.git to /tmp/pip-req-build-e9gt0o7b\n",
            "  Running command git clone -q https://github.com/gbaydin/hypergradient-descent.git /tmp/pip-req-build-e9gt0o7b\n",
            "Building wheels for collected packages: hypergrad\n",
            "  Building wheel for hypergrad (setup.py) ... \u001b[?25l\u001b[?25hdone\n",
            "  Created wheel for hypergrad: filename=hypergrad-0.1-cp36-none-any.whl size=8188 sha256=fff2ffd89be83ebc035bc470edf87c096f893bdb1e2e9f2ff65b7146e0e39163\n",
            "  Stored in directory: /tmp/pip-ephem-wheel-cache-b5rqd5x4/wheels/fd/a2/2d/63c4e652ba00bf75e1e0e9ce9628cb47c151bd10322a6cf978\n",
            "Successfully built hypergrad\n",
            "Installing collected packages: hypergrad\n",
            "Successfully installed hypergrad-0.1\n"
          ],
          "name": "stdout"
        }
      ]
    },
    {
      "cell_type": "code",
      "metadata": {
        "id": "b8E0AlpEYM9_",
        "colab_type": "code",
        "outputId": "b22819fa-69c6-41b9-8c43-7092321235d5",
        "colab": {
          "base_uri": "https://localhost:8080/",
          "height": 190
        }
      },
      "source": [
        "import torch\n",
        "! pip install torchbearer\n",
        "import torchbearer"
      ],
      "execution_count": 0,
      "outputs": [
        {
          "output_type": "stream",
          "text": [
            "Collecting torchbearer\n",
            "\u001b[?25l  Downloading https://files.pythonhosted.org/packages/ff/e9/4049a47dd2e5b6346a2c5d215b0c67dce814afbab1cd54ce024533c4834e/torchbearer-0.5.3-py3-none-any.whl (138kB)\n",
            "\r\u001b[K     |██▍                             | 10kB 23.6MB/s eta 0:00:01\r\u001b[K     |████▊                           | 20kB 30.3MB/s eta 0:00:01\r\u001b[K     |███████▏                        | 30kB 36.2MB/s eta 0:00:01\r\u001b[K     |█████████▌                      | 40kB 21.1MB/s eta 0:00:01\r\u001b[K     |███████████▉                    | 51kB 15.4MB/s eta 0:00:01\r\u001b[K     |██████████████▎                 | 61kB 15.3MB/s eta 0:00:01\r\u001b[K     |████████████████▋               | 71kB 14.4MB/s eta 0:00:01\r\u001b[K     |███████████████████             | 81kB 15.6MB/s eta 0:00:01\r\u001b[K     |█████████████████████▍          | 92kB 13.8MB/s eta 0:00:01\r\u001b[K     |███████████████████████▊        | 102kB 13.8MB/s eta 0:00:01\r\u001b[K     |██████████████████████████      | 112kB 13.8MB/s eta 0:00:01\r\u001b[K     |████████████████████████████▌   | 122kB 13.8MB/s eta 0:00:01\r\u001b[K     |██████████████████████████████▉ | 133kB 13.8MB/s eta 0:00:01\r\u001b[K     |████████████████████████████████| 143kB 13.8MB/s \n",
            "\u001b[?25hRequirement already satisfied: tqdm in /usr/local/lib/python3.6/dist-packages (from torchbearer) (4.41.1)\n",
            "Requirement already satisfied: numpy in /usr/local/lib/python3.6/dist-packages (from torchbearer) (1.18.4)\n",
            "Requirement already satisfied: torch>=1.0.0 in /usr/local/lib/python3.6/dist-packages (from torchbearer) (1.5.0+cu101)\n",
            "Requirement already satisfied: future in /usr/local/lib/python3.6/dist-packages (from torch>=1.0.0->torchbearer) (0.16.0)\n",
            "Installing collected packages: torchbearer\n",
            "Successfully installed torchbearer-0.5.3\n"
          ],
          "name": "stdout"
        }
      ]
    },
    {
      "cell_type": "code",
      "metadata": {
        "id": "YK7GdEpBYW7_",
        "colab_type": "code",
        "colab": {}
      },
      "source": [
        "from torchvision.datasets import MNIST\n",
        "from torchvision import transforms\n",
        "from torch import nn\n",
        "from torch.nn import functional as F\n",
        "from torch import optim\n",
        "from torch.utils.data import DataLoader\n",
        "from hypergrad import SGDHD, AdamHD"
      ],
      "execution_count": 0,
      "outputs": []
    },
    {
      "cell_type": "code",
      "metadata": {
        "id": "VsBDWaq0ZE6y",
        "colab_type": "code",
        "outputId": "2f26801c-fb51-4606-adbc-d36687393fca",
        "colab": {
          "base_uri": "https://localhost:8080/",
          "height": 403,
          "referenced_widgets": [
            "e45684dfefae421080046854abd049eb",
            "40366a913c9341928bdc6f20e648f68f",
            "81438870b4b24fa9bd847465358c78e6",
            "45b9c17e4a8b44c6b9cfefeab579aa1e",
            "0c3fd92abc0244fc91f39266ee8e2854",
            "d1b19c47d17542f9b41db51580d6dd4d",
            "e727c3acb8a34cd3afd77813a5e12836",
            "2f32773399144436ae4d59940533c61c",
            "edf59fe18b894a34a70d1f18964068db",
            "49a7c02971374ff18307af588624b0c9",
            "c2e3458238ac4468b7fccc521450ef41",
            "f23965ee5dbd4f47a6eaae12deccc5c8",
            "fd4ceb6475164ce7adadf4b8207a0b31",
            "d966dc9dd10440e29ce6b161f9a38282",
            "6d879b78e6664e34851e17030fb8a4f7",
            "a067ed0af8dd41d1825157f3db54cf89",
            "8bb433cab46c415c8f1586fb8c7d2c82",
            "32465ae14bbb4b2aa31d67c1685f16cf",
            "f88a63cf0e1149828df03c1a5b119af6",
            "d41a04d1b28d42babbd0e92a28ef64ca",
            "83134310bb104a99b04843204671799e",
            "de81f8e6f9b7411b851bc9049ae37f07",
            "ac32c2111a8d44beb8f60749e18f600f",
            "9ee7e527cc3d4f8abfffcf844042be0d",
            "1ed9ec8fdbee4a28a53a846d4a6efa7c",
            "97da1f56bade483c89889f6b19aaad28",
            "460a5c47fe6e4f7a95e795aba77ec003",
            "808333b97ed041a0a89b9d20599ed949",
            "45aa2b3ac7824d65a4057d9f56c69f18",
            "ee0170098d7e43db8ecec1d2ffb77818",
            "e6cb1f75fff04ce38b1421979a1f00b8",
            "5ebe0d087e63418daa4dbe4c532a85cf"
          ]
        }
      },
      "source": [
        "transform = transforms.Compose([transforms.ToTensor(), transforms.Lambda(lambda x : x.view(-1))])\n",
        "\n",
        "train = MNIST('.', train=True, transform=transform, download=True)\n",
        "test = MNIST('.', train=False, transform=transform, download=True)\n",
        "\n",
        "trainloader = DataLoader(train, batch_size=128, shuffle=True)\n",
        "testloader = DataLoader(test, batch_size=128, shuffle=True)"
      ],
      "execution_count": 0,
      "outputs": [
        {
          "output_type": "stream",
          "text": [
            "Downloading http://yann.lecun.com/exdb/mnist/train-images-idx3-ubyte.gz to ./MNIST/raw/train-images-idx3-ubyte.gz\n"
          ],
          "name": "stdout"
        },
        {
          "output_type": "display_data",
          "data": {
            "application/vnd.jupyter.widget-view+json": {
              "model_id": "e45684dfefae421080046854abd049eb",
              "version_minor": 0,
              "version_major": 2
            },
            "text/plain": [
              "HBox(children=(FloatProgress(value=1.0, bar_style='info', max=1.0), HTML(value='')))"
            ]
          },
          "metadata": {
            "tags": []
          }
        },
        {
          "output_type": "stream",
          "text": [
            "Extracting ./MNIST/raw/train-images-idx3-ubyte.gz to ./MNIST/raw\n",
            "Downloading http://yann.lecun.com/exdb/mnist/train-labels-idx1-ubyte.gz to ./MNIST/raw/train-labels-idx1-ubyte.gz\n"
          ],
          "name": "stdout"
        },
        {
          "output_type": "display_data",
          "data": {
            "application/vnd.jupyter.widget-view+json": {
              "model_id": "edf59fe18b894a34a70d1f18964068db",
              "version_minor": 0,
              "version_major": 2
            },
            "text/plain": [
              "HBox(children=(FloatProgress(value=1.0, bar_style='info', max=1.0), HTML(value='')))"
            ]
          },
          "metadata": {
            "tags": []
          }
        },
        {
          "output_type": "stream",
          "text": [
            "Extracting ./MNIST/raw/train-labels-idx1-ubyte.gz to ./MNIST/raw\n",
            "Downloading http://yann.lecun.com/exdb/mnist/t10k-images-idx3-ubyte.gz to ./MNIST/raw/t10k-images-idx3-ubyte.gz\n"
          ],
          "name": "stdout"
        },
        {
          "output_type": "display_data",
          "data": {
            "application/vnd.jupyter.widget-view+json": {
              "model_id": "8bb433cab46c415c8f1586fb8c7d2c82",
              "version_minor": 0,
              "version_major": 2
            },
            "text/plain": [
              "HBox(children=(FloatProgress(value=1.0, bar_style='info', max=1.0), HTML(value='')))"
            ]
          },
          "metadata": {
            "tags": []
          }
        },
        {
          "output_type": "stream",
          "text": [
            "Extracting ./MNIST/raw/t10k-images-idx3-ubyte.gz to ./MNIST/raw\n",
            "Downloading http://yann.lecun.com/exdb/mnist/t10k-labels-idx1-ubyte.gz to ./MNIST/raw/t10k-labels-idx1-ubyte.gz\n"
          ],
          "name": "stdout"
        },
        {
          "output_type": "display_data",
          "data": {
            "application/vnd.jupyter.widget-view+json": {
              "model_id": "1ed9ec8fdbee4a28a53a846d4a6efa7c",
              "version_minor": 0,
              "version_major": 2
            },
            "text/plain": [
              "HBox(children=(FloatProgress(value=1.0, bar_style='info', max=1.0), HTML(value='')))"
            ]
          },
          "metadata": {
            "tags": []
          }
        },
        {
          "output_type": "stream",
          "text": [
            "Extracting ./MNIST/raw/t10k-labels-idx1-ubyte.gz to ./MNIST/raw\n",
            "Processing...\n",
            "Done!\n",
            "\n",
            "\n",
            "\n"
          ],
          "name": "stdout"
        },
        {
          "output_type": "stream",
          "text": [
            "/pytorch/torch/csrc/utils/tensor_numpy.cpp:141: UserWarning: The given NumPy array is not writeable, and PyTorch does not support non-writeable tensors. This means you can write to the underlying (supposedly non-writeable) NumPy array using the tensor. You may want to copy the array to protect its data or make it writeable before converting it to a tensor. This type of warning will be suppressed for the rest of this program.\n"
          ],
          "name": "stderr"
        }
      ]
    },
    {
      "cell_type": "code",
      "metadata": {
        "id": "vqKffMb2aU0m",
        "colab_type": "code",
        "colab": {}
      },
      "source": [
        "class NeuralNet(nn.Module) :\n",
        "    def __init__(self) :\n",
        "        super(NeuralNet, self).__init__()\n",
        "        self.fc1 = nn.Linear(784,1000)\n",
        "        self.fc2 = nn.Linear(1000,1000)\n",
        "        self.fc3 = nn.Linear(1000, 10)\n",
        "    def forward(self, x) :\n",
        "        out = self.fc1(x)\n",
        "        out = F.relu(out)\n",
        "        out = self.fc2(out)\n",
        "        out = F.relu(out)\n",
        "        out = self.fc3(out)\n",
        "        return out"
      ],
      "execution_count": 0,
      "outputs": []
    },
    {
      "cell_type": "code",
      "metadata": {
        "id": "erybtiVobJe4",
        "colab_type": "code",
        "colab": {}
      },
      "source": [
        "alpha = 0.001\n",
        "beta = 0.001\n",
        "b = 1e-7\n",
        "w_decay = 0.0001\n",
        "mu = 0.9"
      ],
      "execution_count": 0,
      "outputs": []
    },
    {
      "cell_type": "code",
      "metadata": {
        "id": "LW0Zdl13bjxw",
        "colab_type": "code",
        "colab": {}
      },
      "source": [
        "device = 'cuda:0'\n",
        "model1 = NeuralNet().to(device) #SGD\n",
        "model2 = NeuralNet().to(device) #SGDHD\n",
        "model3 = NeuralNet().to(device) #SGDN\n",
        "model4 = NeuralNet().to(device) #SGDNHD\n",
        "model5 = NeuralNet().to(device) #Adam\n",
        "model6 = NeuralNet().to(device) #AdamHD\n",
        "opt1 = optim.SGD(model1.parameters(), lr=alpha, weight_decay=w_decay)\n",
        "opt2 = SGDHD(model2.parameters(), lr=alpha, weight_decay=w_decay, hypergrad_lr=beta)\n",
        "opt3 = optim.SGD(model3.parameters(), lr=alpha, weight_decay=w_decay, momentum=mu,nesterov=True)\n",
        "opt4 = SGDHD(model4.parameters(), lr=alpha, weight_decay=w_decay, hypergrad_lr=beta, momentum=mu, nesterov=True)\n",
        "opt5 = optim.Adam(model5.parameters(), lr=alpha, weight_decay=w_decay)\n",
        "opt6 = AdamHD(model6.parameters(), lr=alpha, hypergrad_lr=b, weight_decay=w_decay)"
      ],
      "execution_count": 0,
      "outputs": []
    },
    {
      "cell_type": "code",
      "metadata": {
        "id": "J_iy04G_h9tJ",
        "colab_type": "code",
        "colab": {}
      },
      "source": [
        "import time\n",
        "def run_trial(model, opt, loss_func, epoch) :\n",
        "    start = time.time()\n",
        "    losses = []\n",
        "    learn = []\n",
        "    for i in range(epoch) :\n",
        "        ep_loss = 0\n",
        "        va_loss = 0\n",
        "        alpha = 0\n",
        "        for _, (data, label) in enumerate(trainloader) :\n",
        "            data = data.to(device)\n",
        "            label = label.to(device)\n",
        "            opt.zero_grad()\n",
        "            out = model(data)\n",
        "            loss = loss_func(out, label)\n",
        "            loss.backward()\n",
        "            opt.step()\n",
        "            a = opt.param_groups[0]['lr']\n",
        "            alpha += a\n",
        "            loss = loss.data\n",
        "            ep_loss += loss\n",
        "        for _, (data, label) in enumerate(testloader) :\n",
        "            data = data.to(device)\n",
        "            label = label.to(device)\n",
        "            out = model(data)\n",
        "            loss = loss_func(out, label)\n",
        "            va_loss += loss.data\n",
        "        learn.append(alpha/len(trainloader.dataset))\n",
        "        losses.append((ep_loss/len(trainloader.dataset),va_loss/len(testloader.dataset)))\n",
        "    finish = time.time()\n",
        "    return losses, finish - start, learn"
      ],
      "execution_count": 0,
      "outputs": []
    },
    {
      "cell_type": "code",
      "metadata": {
        "id": "p9nBTdfknE3j",
        "colab_type": "code",
        "outputId": "3ab4bfac-9ed4-4d38-fa6e-f435890a98d1",
        "colab": {
          "base_uri": "https://localhost:8080/",
          "height": 85
        }
      },
      "source": [
        "sgd, timesgd, lrsgd = run_trial(model1, opt1, F.cross_entropy, 100)\n",
        "sgdhd, timesgdhd, lrsgdhd = run_trial(model2, opt2, F.cross_entropy, 100)\n",
        "sgdn, timesgdn, lrsgdn = run_trial(model3, opt3, F.cross_entropy, 100)\n",
        "sgdnhd, timesgdnhd, lrsgdnhd = run_trial(model4, opt4, F.cross_entropy, 100)\n",
        "adam, timeadam, lradam = run_trial(model5, opt5, F.cross_entropy, 100)\n",
        "adamhd, timeadamhd, lradamhd = run_trial(model6, opt6, F.cross_entropy, 100)"
      ],
      "execution_count": 0,
      "outputs": [
        {
          "output_type": "stream",
          "text": [
            "/pytorch/torch/csrc/utils/python_arg_parser.cpp:756: UserWarning: This overload of add_ is deprecated:\n",
            "\tadd_(Number alpha, Tensor other)\n",
            "Consider using one of the following signatures instead:\n",
            "\tadd_(Tensor other, *, Number alpha)\n"
          ],
          "name": "stderr"
        }
      ]
    },
    {
      "cell_type": "code",
      "metadata": {
        "id": "-Hj-Bfrk-R8A",
        "colab_type": "code",
        "colab": {}
      },
      "source": [
        "sgd = torch.Tensor(sgd)\n",
        "sgdhd = torch.Tensor(sgdhd)\n",
        "sgdn = torch.Tensor(sgdn)\n",
        "sgdnhd = torch.Tensor(sgdnhd)\n",
        "adam = torch.Tensor(adam)\n",
        "adamhd = torch.Tensor(adamhd)"
      ],
      "execution_count": 0,
      "outputs": []
    },
    {
      "cell_type": "code",
      "metadata": {
        "id": "ERr0216H-cay",
        "colab_type": "code",
        "outputId": "95d807e1-f390-4275-f7f5-8fb8ce12ddb4",
        "colab": {
          "base_uri": "https://localhost:8080/",
          "height": 941
        }
      },
      "source": [
        "import matplotlib.pyplot as plt\n",
        "\n",
        "fig, ax = plt.subplots(3, 1, figsize=(5,14))\n",
        "ax[0].plot(range(100),sgd[:,0],color='red')\n",
        "ax[0].plot(range(100),sgdhd[:,0],color='blue')\n",
        "ax[0].plot(range(100),sgdn[:,0],color='yellow')\n",
        "ax[0].plot(range(100),sgdnhd[:,0],color='orange')\n",
        "ax[0].plot(range(100),adam[:,0],color='green')\n",
        "ax[0].plot(range(100),adamhd[:,0],color='purple')\n",
        "ax[0].set_xlabel('Epoch')\n",
        "ax[0].set_ylabel('Training Loss')\n",
        "ax[0].legend(['SGD', 'SGD-HD', 'SGDN', 'SGDN-HD', 'Adam', 'AdamHD'])\n",
        "ax[1].plot(range(100),sgd[:,1],color='red')\n",
        "ax[1].plot(range(100),sgdhd[:,1],color='blue')\n",
        "ax[1].plot(range(100),sgdn[:,1],color='yellow')\n",
        "ax[1].plot(range(100),sgdnhd[:,1],color='orange')\n",
        "ax[1].plot(range(100),adam[:,1],color='green')\n",
        "ax[1].plot(range(100),adamhd[:,1],color='purple')\n",
        "ax[1].set_xlabel('Epoch')\n",
        "ax[1].set_ylabel('Validation Loss')\n",
        "ax[1].legend(['SGD', 'SGD-HD', 'SGDN', 'SGDN-HD', 'Adam', 'AdamHD'])\n",
        "ax[2].plot(range(100),lrsgdhd,color='blue')\n",
        "\n",
        "ax[2].plot(range(100),lrsgdnhd,color='orange')\n",
        "\n",
        "ax[2].plot(range(100),lradamhd,color='purple')\n",
        "ax[2].set_xlabel('Epoch')\n",
        "ax[2].set_ylabel('Learning Rate Hyperparameter')\n",
        "ax[2].legend(['SGD-HD', 'SGDN-HD', 'AdamHD'])\n",
        "fig.suptitle('MLP')"
      ],
      "execution_count": 0,
      "outputs": [
        {
          "output_type": "execute_result",
          "data": {
            "text/plain": [
              "Text(0.5, 0.98, 'MLP')"
            ]
          },
          "metadata": {
            "tags": []
          },
          "execution_count": 20
        },
        {
          "output_type": "display_data",
          "data": {
            "image/png": "[encoded data removed]",
            "text/plain": [
              "<Figure size 360x1008 with 3 Axes>"
            ]
          },
          "metadata": {
            "tags": [],
            "needs_background": "light"
          }
        }
      ]
    }
  ]
}